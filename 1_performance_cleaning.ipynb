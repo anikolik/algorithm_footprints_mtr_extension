{
  "nbformat": 4,
  "nbformat_minor": 0,
  "metadata": {
    "colab": {
      "provenance": []
    },
    "kernelspec": {
      "name": "python3",
      "display_name": "Python 3"
    },
    "language_info": {
      "name": "python"
    }
  },
  "cells": [
    {
      "cell_type": "code",
      "source": [
        "# Setup and Mount Google Drive\n",
        "from google.colab import drive\n",
        "drive.mount('/content/drive')\n",
        "\n",
        "# Navigate to the project folder\n",
        "# %cd #YOUR PATH TO THE NOTEBOOK IN GOOGLE COLAB"
      ],
      "metadata": {
        "colab": {
          "base_uri": "https://localhost:8080/"
        },
        "id": "g2BH_-3DlMrp",
        "outputId": "cf446213-c707-40b9-9f86-ab0713e16c49"
      },
      "execution_count": null,
      "outputs": [
        {
          "output_type": "stream",
          "name": "stdout",
          "text": [
            "Drive already mounted at /content/drive; to attempt to forcibly remount, call drive.mount(\"/content/drive\", force_remount=True).\n"
          ]
        }
      ]
    },
    {
      "cell_type": "code",
      "execution_count": null,
      "metadata": {
        "id": "mkCbiu3XF9Fz"
      },
      "outputs": [],
      "source": [
        "# Import dependencies\n",
        "import os\n",
        "import numpy as np\n",
        "import pandas as pd\n",
        "from sklearn.preprocessing import MinMaxScaler\n",
        "import matplotlib.pyplot as plt\n",
        "import seaborn as sns\n",
        "import natsort\n",
        "from functools import reduce"
      ]
    },
    {
      "cell_type": "code",
      "source": [
        "from configuration import experiment_id as EXPERIMENT_ID\n",
        "from configuration import data_root as DATA_ROOT\n",
        "from configuration import data_path as DATA_PATH\n",
        "from configuration import budget as BUDGET\n",
        "from configuration import algorithms as ALGORITHMS\n",
        "from configuration import n_iid as N_IID\n",
        "\n",
        "DATA_PATH"
      ],
      "metadata": {
        "id": "tJWoqjcHqX9F"
      },
      "execution_count": null,
      "outputs": []
    },
    {
      "cell_type": "code",
      "source": [
        "pd.set_option('display.max_columns', None)\n",
        "\n",
        "BUDGET"
      ],
      "metadata": {
        "id": "AUpbGug7AVyp"
      },
      "execution_count": null,
      "outputs": []
    },
    {
      "cell_type": "code",
      "source": [
        "ALGORITHMS"
      ],
      "metadata": {
        "id": "UcV0n2_VthUz"
      },
      "execution_count": null,
      "outputs": []
    },
    {
      "cell_type": "code",
      "source": [
        "N_IID"
      ],
      "metadata": {
        "id": "ThoVpTk5titP"
      },
      "execution_count": null,
      "outputs": []
    },
    {
      "cell_type": "code",
      "source": [
        "def target_check(data_path, algorithms, budget, n_iid):\n",
        "  \"\"\" Function to check target data. \"\"\"\n",
        "  for algorithm_name in algorithms:\n",
        "      for i in range(1, n_iid+1):\n",
        "          file_path = f\"{data_path}/{algorithm_name}_{i}_fixed_runtime.csv\"\n",
        "          if not os.path.exists(file_path):\n",
        "              print(f\"File not found: {file_path}\")\n",
        "              continue\n",
        "          else:\n",
        "              data = pd.read_csv(f\"{data_path}/{algorithm_name}_{i}_fixed_runtime.csv\", index_col=\"Unnamed: 0\"\n",
        "                                  , dtype={\"funcId\": int, \"runtime\": int, \"run\": int, \"f(x)\": float, \"IID\": int})\n",
        "              data = data.rename(columns={\"funcId\": \"f_id\", \"IID\": \"i_id\", \"runtime\": \"budget\"})\n",
        "              data = data[data[\"budget\"] == budget]\n",
        "              data = data.drop([\"DIM\", \"ID\", \"budget\"], axis=1)\n",
        "              data_mean = data.groupby([\"f_id\", \"i_id\"])[\"f(x)\"].mean().reset_index()\n",
        "              data_mean = data_mean.sort_values(by=[\"f_id\"])\n",
        "              if data_mean.shape[0] != 24:\n",
        "                  print(f\"Missing instance: {data_path}/{algorithm_name}_{i}_fixed_runtime.csv\")\n",
        "                  print(data_mean.shape)\n",
        "\n",
        "              data_runs = data.groupby([\"f_id\", \"i_id\"])[\"run\"].size().reset_index()\n",
        "              if len(data_runs[data_runs[\"run\"]!=50])!=0:\n",
        "                print(f\"Missing runs: {data_path}/{algorithm_name}_{i}_fixed_runtime.csv\")\n",
        "                print(data_runs[data_runs[\"run\"]!=50])\n",
        "\n",
        "\n",
        "# target_check(data_path=f\"Data/performance\",\n",
        "#              algorithms=ALGORITHMS, budget=BUDGET, n_iid=N_IID)"
      ],
      "metadata": {
        "id": "at4o3Bur0kCK"
      },
      "execution_count": null,
      "outputs": []
    },
    {
      "cell_type": "code",
      "source": [
        "def prepare_target(data_path, algorithms, budget, n_iid, save_path):\n",
        "    \"\"\" Function to prepare target data: aggregate algorithm performance over multiple runs, stack perforamnce from multiple algorithms.\"\"\"\n",
        "    result_mtr = list()\n",
        "    for algorithm_name in algorithms:\n",
        "        result_str = pd.DataFrame()\n",
        "        for i in range(1, n_iid+1):\n",
        "            file_path = f\"{data_path}/{algorithm_name}_{i}_fixed_runtime.csv\"\n",
        "            if not os.path.exists(file_path):\n",
        "                print(f\"File not found: {file_path}\")\n",
        "                continue\n",
        "            else:\n",
        "                data = pd.read_csv(f\"{data_path}/{algorithm_name}_{i}_fixed_runtime.csv\", index_col=\"Unnamed: 0\"\n",
        "                                   , dtype={\"funcId\": int, \"runtime\": int, \"run\": int, \"f(x)\": float, \"IID\": int})\n",
        "                data = data.rename(columns={\"funcId\": \"f_id\", \"IID\": \"i_id\", \"runtime\": \"budget\"})\n",
        "                data = data[data[\"budget\"] == budget]\n",
        "                data = data.drop([\"DIM\", \"ID\", \"budget\"], axis=1)\n",
        "                data = data.groupby([\"f_id\", \"i_id\"])[\"f(x)\"].mean().reset_index()\n",
        "                data[algorithm_name] = np.log10(data[\"f(x)\"] + 1)\n",
        "                data = data.drop([\"f(x)\"], axis=1)\n",
        "                data = data.sort_values(by=[\"f_id\"], key=natsort.natsort_keygen())\n",
        "                result_str = pd.concat([result_str, data], axis=0)\n",
        "        result_mtr.append(result_str)\n",
        "    data = reduce(lambda left, right: pd.merge(left, right, on=['f_id', 'i_id'],\n",
        "                                               how='inner'), result_mtr)\n",
        "    data.to_csv(f\"{save_path}/y.csv\", index=False)\n",
        "\n",
        "    return data\n",
        "\n",
        "y = prepare_target(data_path=f\"Data/performance\",\n",
        "                   algorithms=ALGORITHMS\n",
        "                   , budget=BUDGET, n_iid=N_IID, save_path=DATA_PATH)"
      ],
      "metadata": {
        "id": "drl90QpPIjFN"
      },
      "execution_count": null,
      "outputs": []
    },
    {
      "cell_type": "code",
      "source": [
        "y.head()"
      ],
      "metadata": {
        "id": "NzsB2CSv5LF9"
      },
      "execution_count": null,
      "outputs": []
    },
    {
      "cell_type": "code",
      "source": [
        "y.shape"
      ],
      "metadata": {
        "id": "mFUJo8pw5L5m"
      },
      "execution_count": null,
      "outputs": []
    }
  ]
}