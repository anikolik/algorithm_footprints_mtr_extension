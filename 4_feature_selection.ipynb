{
  "cells": [
    {
      "cell_type": "code",
      "execution_count": null,
      "metadata": {
        "id": "lwQUy_n2A8_X"
      },
      "outputs": [],
      "source": [
        "from google.colab import drive\n",
        "drive.mount('/content/drive')\n",
        "# %cd #YOUR PATH TO THE NOTEBOOK FOLDER IN GOOGLE COLAB"
      ]
    },
    {
      "cell_type": "code",
      "execution_count": null,
      "metadata": {
        "id": "TY6cD0zQizPJ"
      },
      "outputs": [],
      "source": [
        "!pip install mlxtend"
      ]
    },
    {
      "cell_type": "code",
      "execution_count": null,
      "metadata": {
        "id": "M4CD1AAVGoC_"
      },
      "outputs": [],
      "source": [
        "import numpy as np\n",
        "import pandas as pd\n",
        "import joblib\n",
        "from sklearn.ensemble import RandomForestRegressor\n",
        "from sklearn.linear_model import MultiTaskElasticNet\n",
        "from sklearn.model_selection import StratifiedKFold\n",
        "from mlxtend.feature_selection import SequentialFeatureSelector as SFS\n",
        "import matplotlib.pyplot as plt\n",
        "import seaborn as sns"
      ]
    },
    {
      "cell_type": "code",
      "source": [
        "from configuration import data_path as DATA_PATH\n",
        "from configuration import results_root as RESULTS_ROOT\n",
        "from configuration import results_path as RESULTS_PATH\n",
        "from configuration import hyperparameter_tuning as HYPERPARAMETER_TUNING\n",
        "from configuration import model_name as MODEL_NAME\n",
        "from configuration import n_splits as N_SPLITS\n",
        "from configuration import n_features as N_FEATURES"
      ],
      "metadata": {
        "id": "-36uDYw-l0zX"
      },
      "execution_count": null,
      "outputs": []
    },
    {
      "cell_type": "code",
      "source": [
        "DATA_PATH, RESULTS_PATH, HYPERPARAMETER_TUNING"
      ],
      "metadata": {
        "id": "V5_8WZctqqu1"
      },
      "execution_count": null,
      "outputs": []
    },
    {
      "cell_type": "code",
      "source": [
        "MODEL_NAME, N_SPLITS, N_FEATURES"
      ],
      "metadata": {
        "id": "8DN-6JoOpYwv"
      },
      "execution_count": null,
      "outputs": []
    },
    {
      "cell_type": "code",
      "source": [
        "def load_training_data(path: str):\n",
        "    \"\"\"\n",
        "    Load training data from CSV files.\n",
        "    Args:\n",
        "        path (str): The directory path where the training data CSV files are stored.\n",
        "    Returns:\n",
        "        X_train (pd.DataFrame): A DataFrame containing the input features for training.\n",
        "        y_train (pd.DataFrame): A DataFrame containing the target labels for training.\n",
        "    \"\"\"\n",
        "    X_train = pd.read_csv(f\"{path}/X_train.csv\", index_col=[\"f_id\", \"i_id\"])\n",
        "    y_train = pd.read_csv(f\"{path}/y_train.csv\", index_col=[\"f_id\", \"i_id\"])\n",
        "    return X_train, y_train\n",
        "\n",
        "def load_hyperparameters(model_name: str, results_root: str, hyperparameter_tuning: bool) -> dict:\n",
        "    \"\"\"\n",
        "    Load previously tuned hyperparameters or set default parameters.\n",
        "    Args:\n",
        "        model_name (str): The name of the model (e.g., 'random_forest', 'multitask_elastic_net').\n",
        "        results_root (str): The root directory where results are saved.\n",
        "        hyperparameter_tuning (bool): If true, load the tuned hyperparameters from file.\n",
        "    Returns:\n",
        "        dict: The hyperparameters for the model.\n",
        "    \"\"\"\n",
        "    if hyperparameter_tuning:\n",
        "        params = joblib.load(f\"{results_root}/{model_name}/hyperparameter_tuning=True-feature_selection=False/best_params.joblib\")\n",
        "    else:\n",
        "        if model_name == \"random_forest\":\n",
        "            params = {\"random_state\": 42}\n",
        "        elif model_name == \"multitask_elastic_net\":\n",
        "            params = {}\n",
        "        else:\n",
        "            raise ValueError(\"Unknown model name\")\n",
        "\n",
        "    return params\n",
        "\n",
        "def init_model(params: dict, model_name: str):\n",
        "    \"\"\"\n",
        "    Initialize a machine learning model based on the model name and provided parameters.\n",
        "    Args:\n",
        "        params (dict): A dictionary containing the hyperparameters for the model.\n",
        "        model_name (str): A string specifying the name of the model to be initialized.\n",
        "                          Supported values are \"multitask_elastic_net\" and \"random_forest\".\n",
        "    Returns:\n",
        "        model: The initialized machine learning model, either MultiTaskElasticNet or RandomForestRegressor.\n",
        "    \"\"\"\n",
        "    if model_name == \"multitask_elastic_net\":\n",
        "        return MultiTaskElasticNet(**params)\n",
        "    elif model_name == \"random_forest\":\n",
        "        # Ensure random_state is set for RandomForest if not provided\n",
        "        if \"random_state\" not in params:\n",
        "            params[\"random_state\"] = 42\n",
        "        return RandomForestRegressor(**params)\n",
        "    else:\n",
        "        raise ValueError(\"Unknown model name\")"
      ],
      "metadata": {
        "id": "nxZtim8irzVE"
      },
      "execution_count": null,
      "outputs": []
    },
    {
      "cell_type": "code",
      "execution_count": null,
      "metadata": {
        "id": "0Fcu3BSXjC39"
      },
      "outputs": [],
      "source": [
        "def run_feature_selection(results_path):\n",
        "  # Load training data\n",
        "  X_train, y_train = load_training_data(path=DATA_PATH)\n",
        "  # Load previously tuned hyperparameters or set default parameters\n",
        "  params = load_hyperparameters(model_name=MODEL_NAME, results_root=RESULTS_ROOT, hyperparameter_tuning=HYPERPARAMETER_TUNING)\n",
        "  print(f\"\\n Loading hyperparameters: f{params}\")\n",
        "  # Initialize model\n",
        "  model = init_model(params=params, model_name=MODEL_NAME)\n",
        "  # Initialize cross-validation\n",
        "  skf = StratifiedKFold(n_splits=N_SPLITS, shuffle=True, random_state=42)\n",
        "  # Forward feature selection\n",
        "  sfs = SFS(model,\n",
        "            k_features=N_FEATURES,\n",
        "            forward=True,\n",
        "            floating=False,\n",
        "            scoring='neg_mean_absolute_error',\n",
        "            verbose=2,\n",
        "            n_jobs=-1,\n",
        "            cv=list(skf.split(X_train, X_train.reset_index()[\"f_id\"])))\n",
        "\n",
        "  sfs = sfs.fit(X_train.reset_index(drop=True), y_train.reset_index(drop=True))\n",
        "\n",
        "  # Save feature selection\n",
        "  selected_features = pd.DataFrame.from_dict(sfs.get_metric_dict()).T\n",
        "  selected_features['n'] = selected_features['feature_names'].apply(lambda x: len(x))\n",
        "  selected_features[\"avg_score\"] = -selected_features[\"avg_score\"]\n",
        "  selected_features.sort_values(by=\"n\", ascending=True)\n",
        "  selected_features.to_csv(f\"{results_path}/feature_selection_report.csv\", index=False)\n",
        "\n",
        "  return sfs, selected_features, model"
      ]
    },
    {
      "cell_type": "code",
      "execution_count": null,
      "metadata": {
        "id": "COMfihApjavj"
      },
      "outputs": [],
      "source": [
        "sfs, selected_features, model = run_feature_selection(results_path=RESULTS_PATH)"
      ]
    },
    {
      "cell_type": "code",
      "source": [
        "model"
      ],
      "metadata": {
        "id": "GjqcP6yMYs9V"
      },
      "execution_count": null,
      "outputs": []
    },
    {
      "cell_type": "code",
      "source": [
        "selected_features"
      ],
      "metadata": {
        "id": "4U3UeB5QYE1T"
      },
      "execution_count": null,
      "outputs": []
    },
    {
      "cell_type": "code",
      "source": [
        "def plot_feature_selection_scores(selected_features, save_path):\n",
        "    \"\"\"\n",
        "    Function to plot the feature selection scores with respect to the number of features (n).\n",
        "\n",
        "    Args:\n",
        "        selected_features (pd.DataFrame): DataFrame containing feature selection results, including columns:\n",
        "                                          'n' for number of features, 'avg_score' for mean score (e.g. MAE),\n",
        "                                          and 'std_dev' for standard deviation.\n",
        "        save_path (str): Directory path where the plot will be saved.\n",
        "\n",
        "    Returns:\n",
        "        None: Displays the plot and saves the figure as PNG.\n",
        "    \"\"\"\n",
        "    # Set theme for seaborn\n",
        "    sns.set_theme(context='notebook', style='whitegrid', font_scale=1)\n",
        "\n",
        "    # Create a figure and axis\n",
        "    fig, ax = plt.subplots(figsize=(7, 5))\n",
        "\n",
        "    # Sort selected features by average score\n",
        "    selected_features = selected_features.sort_values(by=\"avg_score\", ascending=True)\n",
        "\n",
        "    # Plot line for the feature selection scores\n",
        "    sns.lineplot(data=selected_features, ax=ax, x=\"n\", y=\"avg_score\")\n",
        "\n",
        "    # Add error bars for standard deviation\n",
        "    plt.errorbar(selected_features['n'], selected_features['avg_score'],\n",
        "                 yerr=selected_features['std_dev'], fmt='none', capsize=5, color='gray')\n",
        "\n",
        "    # Add a vertical line for the best feature set (lowest avg_score)\n",
        "    plt.axvline(x=selected_features.head(1)[\"n\"].values[0], color='red', linestyle='--')\n",
        "\n",
        "    # Customize plot appearance\n",
        "    sns.despine()\n",
        "    plt.xlabel(\"Number of features\")\n",
        "    plt.ylabel(\"MAE\")\n",
        "\n",
        "    # Save the plot to the specified directory\n",
        "    plt.savefig(f\"{save_path}/feature_selection_scores.png\", dpi=300, bbox_inches='tight')\n",
        "\n",
        "    # Show the plot\n",
        "    plt.show()"
      ],
      "metadata": {
        "id": "hHlNeb6h_Vzm"
      },
      "execution_count": null,
      "outputs": []
    },
    {
      "cell_type": "code",
      "source": [
        "plot_feature_selection_scores(selected_features=selected_features, save_path=RESULTS_PATH)"
      ],
      "metadata": {
        "id": "kDbHrFr4YiKb"
      },
      "execution_count": null,
      "outputs": []
    }
  ],
  "metadata": {
    "colab": {
      "provenance": []
    },
    "kernelspec": {
      "display_name": "Python 3",
      "name": "python3"
    }
  },
  "nbformat": 4,
  "nbformat_minor": 0
}